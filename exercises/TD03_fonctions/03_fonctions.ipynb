{
 "cells": [
  {
   "cell_type": "markdown",
   "metadata": {},
   "source": [
    "# Instructions Générales\n",
    "\n",
    "Ce TD est à faire en créant un fichier td3.py, que vous éditerez dans VSCode. \n",
    "Vous ne remplirez pas les cellules de ce notebook, mais vous les copierez au fur et à mesure \n",
    "dans votre fichier pour les compléter.\n",
    "\n",
    "Vous respecterez au mieux les règles d'écriture de code, en particulier chaque fonction devra avoir un **docstring** et des commentaires si nécessaire et les noms de variable seront illustratifs de leur usage. Vous utiliserez les outils de débogage (flake8, mypy, debugger, pythontutor ...) pour corriger vos bogues."
   ]
  },
  {
   "cell_type": "markdown",
   "metadata": {},
   "source": [
    "# Gestion du temps\n",
    "\n",
    "Nous allons créer un petit logiciel de gestion du temps et des dates.\n",
    "Pour cela nous aurons besoin de créer un certain nombre de fonctions utilitaires.\n",
    "\n",
    "Un temps a le format suivant: (jour: int, heure: int, minute: int, seconde: int).\n",
    "C'est un tuple de 4 éléments. Par exemple (4, 3, 13, 20) correspond à 4 jours, 3 heures, 13 minutes et 20 secondes.\n",
    "Si on a une variable temps = (4, 3, 13, 20), pour accéder au premier élément on fait temps\\[0\\] ce qui donne 4,\n",
    "le nombre de jours.\n",
    "\n",
    "Créer la fonction qui prend comme argument le temps et renvoie le nombre de seconde total correspondant à ce temps.\n",
    "Créer la fonction qui prend un nombre de secondes et renvoie le temps correspondant."
   ]
  },
  {
   "cell_type": "code",
   "execution_count": 25,
   "metadata": {},
   "outputs": [
    {
     "name": "stdout",
     "output_type": "stream",
     "text": [
      "<class 'tuple'>\n",
      "342094\n",
      "tu as eu 0 jours 0 heures 0 minutes 7 secondes\n"
     ]
    }
   ],
   "source": [
    "#temps[0] : jours, temps[1]: heures, temps[2]: minutes, temps[3]: secondes\n",
    "\n",
    "def tempsEnSeconde(temps):\n",
    "    \"\"\" Renvoie la valeur en seconde de temps donné comme jour, heure, minute, seconde.\"\"\"\n",
    "    a= temps[0] * 60**2 * 24+ temps[1]*3600 + temps[2]* 60 + temps[3]\n",
    "    return a\n",
    "\n",
    "temps = (3,23,1,34)\n",
    "print(type(temps))\n",
    "print(tempsEnSeconde(temps))   \n",
    "\n",
    "def secondeEnTemps(seconde):\n",
    "    l = [0,0,0,0]\n",
    "    \"\"\"Renvoie le temps (jour, heure, minute, seconde) qui correspond au nombre de seconde passé en argument\"\"\"\n",
    "    l[0] = (seconde//(60**2*24))\n",
    "    l[1] =(seconde -l[0]*60**2*24)//3600 \n",
    "    l[2] =((seconde -(l[0]*60**2*24) - (l[1]*3600))//60 )\n",
    "    l[3] =((seconde -(l[0]*60**2*24) - (l[1]*3600) - (l[2]*60)))\n",
    "    return l\n",
    "    \n",
    "\n",
    "seconde = int(input())\n",
    "l = secondeEnTemps(seconde)\n",
    "print(\"tu as eu\" ,l[0] ,\"jours\", l[1], \"heures\" ,l[2] ,\"minutes\", l[3], \"secondes\")\n",
    "#temps = secondeEnTemps(100000)\n",
    "#print(temps[0],\"jours\",temps[1],\"heures\",temps[2],\"minutes\",temps[3],\"secondes\")"
   ]
  },
  {
   "cell_type": "markdown",
   "metadata": {},
   "source": [
    "Créer une fonction d'affichage d'un temps `afficheTemps`. Attention, les mots jour, heure et seconde doivent être au pluriel s'il y en a plusieurs. S'il y en a zéro, ils ne doivent pas apparaître.\n",
    "`print(message, end=\"\")` permet de ne pas sauter une ligne après un print. \n",
    "Vous pouvez écrire une fonction qui affiche un mot au pluriel ou non, appelée ensuite plusieurs fois par `afficheTemps` pour simplifier votre code.\n"
   ]
  },
  {
   "cell_type": "code",
   "execution_count": 13,
   "metadata": {},
   "outputs": [
    {
     "name": "stdout",
     "output_type": "stream",
     "text": [
      "1 jour 14 minutes 23 secondes "
     ]
    }
   ],
   "source": [
    "#fonction auxiliaire ici\n",
    "\n",
    "def afficheTemps(temps):\n",
    "    if temps[0] > 0:\n",
    "        if temps[0]> 1:\n",
    "            print(temps[0],\"jours\",end=\" \")\n",
    "        else:\n",
    "            print(temps[0],\"jour\",end=\" \")\n",
    "    if temps[1] > 0:\n",
    "        if temps[1]> 1:\n",
    "            print(temps[1],\"heures\",end=\" \")\n",
    "        else:\n",
    "            print(temps[1],\"heure\",end=\" \")\n",
    "    if temps[2] > 0:\n",
    "        if temps[2]> 1:\n",
    "            print(temps[2],\"minutes\",end=\" \")\n",
    "        else:\n",
    "            print(temps[2],\"minute\",end=\" \")\n",
    "    if temps[3] > 0:\n",
    "        if temps[3]> 1:\n",
    "            print(temps[3],\"secondes\",end=\" \")\n",
    "        else:\n",
    "            print(temps[3],\"seconde\",end=\" \")\n",
    "    pass\n",
    "    \n",
    "afficheTemps((1,0,14,23))    "
   ]
  },
  {
   "cell_type": "markdown",
   "metadata": {},
   "source": [
    "Ecrire une fonction qui demande à l'utilisateur de rentrer un nombre de jours, d'heures, de minutes et\n",
    "de secondes et qui renvoie un temps. Attention, si l'entrée utilisateur n'est pas correcte, par exemple 80 minutes,\n",
    "afficher un message d'erreur et s'arrêter.\n",
    "\n",
    "(Optionnel) Au lieu d'arêter le programme, demander de rentrer une nouvelle valeur, tant que \n",
    "ce n'est pas une valeur correcte."
   ]
  },
  {
   "cell_type": "code",
   "execution_count": 23,
   "metadata": {},
   "outputs": [
    {
     "name": "stdout",
     "output_type": "stream",
     "text": [
      "14 jours 2 heures 2 minutes 1 seconde "
     ]
    }
   ],
   "source": [
    "def demandeTemps():\n",
    "    jours = int(input())\n",
    "    heures = int(input())\n",
    "    if heures > 23:\n",
    "        while heures > 23:\n",
    "            heures = int(input())\n",
    "    minutes = int(input())\n",
    "    if minutes > 59:\n",
    "        while minutes > 59:\n",
    "            minutes = int(input())\n",
    "    secondes = int(input())\n",
    "    if secondes > 60:\n",
    "        while secondes > 60:\n",
    "            secondes = int(input())\n",
    "    return jours, heures, minutes, secondes\n",
    "    pass\n",
    "\n",
    "afficheTemps(demandeTemps())"
   ]
  },
  {
   "cell_type": "markdown",
   "metadata": {},
   "source": [
    "On veut être capable d'additionner deux temps. Donner une fonction qui fait ce calcul,\n",
    "en utilisant les fonctions précédentes."
   ]
  },
  {
   "cell_type": "code",
   "execution_count": null,
   "metadata": {},
   "outputs": [
    {
     "name": "stdout",
     "output_type": "stream",
     "text": [
      "8 jours 2 heures 1 minute 26 secondes "
     ]
    }
   ],
   "source": [
    "def sommeTemps(temps1,temps2):\n",
    "    a = tempsEnSeconde(temps1) + tempsEnSeconde(temps2)\n",
    "    a = secondeEnTemps(a)\n",
    "    afficheTemps(a)\n",
    "    pass\n",
    "\n",
    "sommeTemps((2,3,4,25),(5,22,57,1))"
   ]
  },
  {
   "cell_type": "markdown",
   "metadata": {},
   "source": [
    "On veut maintenant calculer un pourcentage d'un temps. Par exemple, 20% de\n",
    "2 jours et 36 minutes correspond à 9 heures, 43 minutes et 12 secondes.\n",
    "\n",
    "Implémenter la fonction `proportionTemps` puis appeler cette fonction en échangeant l'ordre des arguments mais en les nommant."
   ]
  },
  {
   "cell_type": "code",
   "execution_count": null,
   "metadata": {},
   "outputs": [
    {
     "name": "stdout",
     "output_type": "stream",
     "text": [
      "9.0 heures 43.0 minutes 12.0 secondes 9.0 heures 43.0 minutes 12.0 secondes "
     ]
    }
   ],
   "source": [
    "def proportionTemps(temps,proportion):\n",
    "    a = tempsEnSeconde(temps)\n",
    "    a = a * proportion\n",
    "    a=secondeEnTemps(a)\n",
    "    return a\n",
    "afficheTemps(proportionTemps((2,0,36,0),0.2))\n",
    "#appeler la fonction en échangeant l'ordre des arguments\n",
    "afficheTemps(proportionTemps(proportion = 0.2, temps=(2,0,36,0)))"
   ]
  },
  {
   "cell_type": "markdown",
   "metadata": {},
   "source": [
    "On veut maintenant afficher un temps sous forme de date, en supposant \n",
    "que le temps 0 est le 1 janvier 1970 à 00:00:00.\n",
    "\n",
    "* Implémenter une fonction `tempsEnDate`qui donne la date sous la forme (année, jour, heure, minute, seconde).\n",
    "* Implémenter la fonction `afficheDate`qui affiche la date. \n",
    "* (Optionnel) Gérer également les mois."
   ]
  },
  {
   "cell_type": "code",
   "execution_count": 41,
   "metadata": {},
   "outputs": [
    {
     "name": "stdout",
     "output_type": "stream",
     "text": [
      "11574 jours 1 heure 46 minutes 40 secondes [16, 1, 46, 40, 31, 9]\n",
      "[-730349, 1, 46, 40, 2001, 9, 0, 1]\n",
      "3971 années Septembre -730349 jours 1 heures 46 minutes 40 secondes\n",
      "[-2179764, 1, 46, 40, 3971, 9, 0, 1, -2001, 1]\n",
      "5941 années Septembre -2179764 jours 1 heures 46 minutes 40 secondes\n"
     ]
    }
   ],
   "source": [
    "def mois(temps):\n",
    "    temps.append(temps[0] // 365)\n",
    "    temps[0] -= temps[4] *365\n",
    "    if temps[0] <= 31:\n",
    "        temps.append(1)\n",
    "    elif temps[0] <= 59:\n",
    "        temps.append(2)\n",
    "        temps[0] -= 31\n",
    "    elif temps[0] <= 90:\n",
    "        temps.append(3)\n",
    "        temps[0] -= 59\n",
    "    elif temps[0] <= 120:\n",
    "        temps.append(4)\n",
    "        temps[0] -= 90\n",
    "    elif temps[0] <= 151:\n",
    "        temps.append(5)\n",
    "        temps[0] -= 120\n",
    "    elif temps[0] <= 181:\n",
    "        temps.append(6)\n",
    "        temps[0] -= 151\n",
    "    elif temps[0] <= 212:\n",
    "        temps.append(7)\n",
    "        temps[0] -= 181\n",
    "    elif temps[0] <= 243:\n",
    "        temps.append(8)\n",
    "        temps[0] -= 212\n",
    "    elif temps[0] <= 273:\n",
    "        temps.append(9)\n",
    "        temps[0] -= 243\n",
    "    elif temps[0] <= 304:\n",
    "        temps.append(10)\n",
    "        temps[0] -= 273\n",
    "    elif temps[0] <= 334:\n",
    "        temps.append(11)\n",
    "        temps[0] -= 304\n",
    "    elif temps[0] <= 365:\n",
    "        temps.append(12)\n",
    "        temps[0] -= 334\n",
    "    print(temps)\n",
    "    return temps\n",
    "        \n",
    "\n",
    "\n",
    "def tempsEnDate(temps):\n",
    "    a = mois(temps)\n",
    "    temps[4] +=1970\n",
    "    pass\n",
    "\n",
    "def afficheDate(date = -1):\n",
    "    a = 0\n",
    "    mois(temps)\n",
    "    if temps[5] == 1:\n",
    "        a = \"Janvier\"\n",
    "    if temps[5] == 2:\n",
    "        a = \"Février\"\n",
    "    if temps[5] == 3:\n",
    "        a = \"Mars\"\n",
    "    if temps[5] == 4:\n",
    "        a = \"Avril\"\n",
    "    if temps[5] == 5:\n",
    "        a = \"mais\"\n",
    "    if temps[5] == 6:\n",
    "        a = \"Juin\"\n",
    "    if temps[5] == 7:\n",
    "        a = \"Juillet\"\n",
    "    if temps[5] == 8:\n",
    "        a = \"Août\"\n",
    "    if temps[5] == 9:\n",
    "        a = \"Septembre\"\n",
    "    if temps[5] == 10:\n",
    "        a = \"Octobre\"\n",
    "    if temps[5] == 11:\n",
    "        a = \"Novembre\"\n",
    "    if temps[5] == 12:\n",
    "        a = \"Décembre\"\n",
    "    temps[4] +=1970\n",
    "    print(temps[4],\"années\",a,temps[0],\"jours\",temps[1],\"heures\",temps[2],\"minutes\",temps[3],\"secondes\")\n",
    "    pass\n",
    "    \n",
    "temps = secondeEnTemps(1000000000)\n",
    "afficheTemps(temps)\n",
    "afficheDate(tempsEnDate(temps))\n",
    "afficheDate()"
   ]
  },
  {
   "cell_type": "markdown",
   "metadata": {},
   "source": [
    "Il existe des fonctions dans la librairie `time` pour la gestion du temps. En particulier, il existe\n",
    "une fonction `time` qui donne le temps écoulé depuis 1970 en secondes. \n",
    "La trouver avec la [documentation python](https://docs.python.org/fr/3/library/time.html#module-time) et la tester en utilisant `afficheDate`. \n",
    "Tester de la même manière la fonction `time.gmtime` qui réalise une tâche similaire à `tempsEnDate`.\n",
    "Que constatez vous ?"
   ]
  },
  {
   "cell_type": "code",
   "execution_count": null,
   "metadata": {},
   "outputs": [
    {
     "name": "stdout",
     "output_type": "stream",
     "text": [
      "time.struct_time(tm_year=2022, tm_mon=10, tm_mday=4, tm_hour=13, tm_min=34, tm_sec=46, tm_wday=1, tm_yday=277, tm_isdst=0)\n"
     ]
    }
   ],
   "source": [
    "#tester ici les fonctions de la librairie time\n",
    "import time\n",
    "print(time.gmtime())"
   ]
  },
  {
   "cell_type": "markdown",
   "metadata": {},
   "source": [
    "Attention, tous les 4 ans les années sont bisextiles (un jour de plus) sauf les multiples de 100 qui ne sont pas des multiples de 400.\n",
    "Donner un code qui prend un nombre de jours et affiche toutes les années bisextiles depuis le 1er janvier 1970 à 00:00:00 jusqu'à la fin de ces jours."
   ]
  },
  {
   "cell_type": "code",
   "execution_count": null,
   "metadata": {},
   "outputs": [
    {
     "name": "stdout",
     "output_type": "stream",
     "text": [
      "136\n",
      "1972\n",
      "1976\n",
      "1980\n",
      "1984\n",
      "1988\n",
      "1992\n",
      "1996\n",
      "2000\n",
      "2004\n",
      "2008\n",
      "2012\n",
      "2016\n",
      "2020\n",
      "2024\n",
      "2028\n",
      "2032\n",
      "2036\n",
      "2040\n",
      "2044\n",
      "2048\n",
      "2052\n",
      "2056\n",
      "2060\n",
      "2064\n",
      "2068\n",
      "2072\n",
      "2076\n",
      "2080\n",
      "2084\n",
      "2088\n",
      "2092\n",
      "2096\n",
      "2104\n"
     ]
    }
   ],
   "source": [
    "def bisextile(jour):\n",
    "    b = 0\n",
    "    a = jour // 365\n",
    "    print(a)\n",
    "    for i in range(a):\n",
    "        b +=1\n",
    "        if (1970 + b) % 100 ==0:\n",
    "            if (1970 + b) % 400 == 0:\n",
    "                print(1970+ b)\n",
    "        elif (1970 + b) % 4 == 0 :\n",
    "                print(1970 + b)\n",
    "    pass\n",
    "        \n",
    "bisextile(50000)"
   ]
  },
  {
   "cell_type": "markdown",
   "metadata": {},
   "source": [
    "Implémenter une fonction `nombreBisextile` qui calcule le nombre d'années bisextiles entre le 1er janvier 1970 et le nombre de jour donnés.\n",
    "Utilisez-la pour implémenter une fonction `tempsEnDateBisextile` qui fait la même chose que `tempsEnDate` mais en prenant en compte les années bisextiles."
   ]
  },
  {
   "cell_type": "code",
   "execution_count": 1,
   "metadata": {},
   "outputs": [
    {
     "ename": "NameError",
     "evalue": "name 'secondeEnTemps' is not defined",
     "output_type": "error",
     "traceback": [
      "\u001b[0;31m---------------------------------------------------------------------------\u001b[0m",
      "\u001b[0;31mNameError\u001b[0m                                 Traceback (most recent call last)",
      "\u001b[1;32m/home/padawan/l1-python/exercises/TD03_fonctions/03_fonctions.ipynb Cellule 19\u001b[0m in \u001b[0;36m<cell line: 20>\u001b[0;34m()\u001b[0m\n\u001b[1;32m     <a href='vscode-notebook-cell:/home/padawan/l1-python/exercises/TD03_fonctions/03_fonctions.ipynb#X24sZmlsZQ%3D%3D?line=16'>17</a>\u001b[0m     temps[\u001b[39m0\u001b[39m] \u001b[39m-\u001b[39m\u001b[39m=\u001b[39m nombreBisextile(temps[\u001b[39m0\u001b[39m])\n\u001b[1;32m     <a href='vscode-notebook-cell:/home/padawan/l1-python/exercises/TD03_fonctions/03_fonctions.ipynb#X24sZmlsZQ%3D%3D?line=17'>18</a>\u001b[0m     \u001b[39mpass\u001b[39;00m\n\u001b[0;32m---> <a href='vscode-notebook-cell:/home/padawan/l1-python/exercises/TD03_fonctions/03_fonctions.ipynb#X24sZmlsZQ%3D%3D?line=19'>20</a>\u001b[0m temps \u001b[39m=\u001b[39m secondeEnTemps(\u001b[39m1000000000\u001b[39m)\n\u001b[1;32m     <a href='vscode-notebook-cell:/home/padawan/l1-python/exercises/TD03_fonctions/03_fonctions.ipynb#X24sZmlsZQ%3D%3D?line=20'>21</a>\u001b[0m afficheTemps(temps)\n\u001b[1;32m     <a href='vscode-notebook-cell:/home/padawan/l1-python/exercises/TD03_fonctions/03_fonctions.ipynb#X24sZmlsZQ%3D%3D?line=21'>22</a>\u001b[0m afficheDate(tempsEnDateBisextile(temps))\n",
      "\u001b[0;31mNameError\u001b[0m: name 'secondeEnTemps' is not defined"
     ]
    }
   ],
   "source": [
    "def nombreBisextile(jour):\n",
    "    c = 0\n",
    "    b = 0\n",
    "    a = jour // 365\n",
    "    print(a)\n",
    "    for i in range(a):\n",
    "        b +=1\n",
    "        if (1970 + b) % 100 ==0:\n",
    "            if (1970 + b) % 400 == 0:\n",
    "                c+=1\n",
    "        elif (1970 + b) % 4 == 0 :\n",
    "                c+=1\n",
    "    return c\n",
    "    pass\n",
    "\n",
    "def tempsEnDateBisextile(temps):\n",
    "    temps[0] -= nombreBisextile(temps[0])\n",
    "    pass\n",
    "   \n",
    "temps = secondeEnTemps(1000000000)\n",
    "afficheTemps(temps)\n",
    "afficheDate(tempsEnDateBisextile(temps))"
   ]
  },
  {
   "cell_type": "markdown",
   "metadata": {},
   "source": [
    "Ajouter des valeurs par défaut dans le code de `afficheDate` afin de pouvoir ommettre\n",
    "l'argument de ces fonctions. Dans ce cas là, on affichera la date actuelle en utilisant la fonction `time`."
   ]
  },
  {
   "cell_type": "markdown",
   "metadata": {},
   "source": [
    "On va maintenant inspecter notre code pour améliorer sa qualité:\n",
    "\n",
    "* Regarder tous les warnings donnés par flake8 et essayer de les régler.\n",
    "* Utiliser le debugger (F5) pour étudier le fonctionnement de votre fonction nombreBisextile.\n",
    "* Mettre les annotations de type des arguments et du retour de la fonction pour nombreBisextile et une autre fonction de votre choix. Vérifier avec mypy que tout fonctionne bien."
   ]
  },
  {
   "cell_type": "markdown",
   "metadata": {},
   "source": [
    "Donner une fonction qui vérifie la charge horaire d'un employé, donnée sous forme d'une liste de temps travaillé chaque semaine dans un mois. Il ne faut pas dépasser 48h par semaine et 140h par mois (qu'on considère ici de 4 semaines).\n",
    "\n",
    "(Optionnel) S'adapter à une liste qui peut contenir plusieurs mois."
   ]
  },
  {
   "cell_type": "code",
   "execution_count": null,
   "metadata": {},
   "outputs": [],
   "source": [
    "def verifie(liste_temps):\n",
    "    pass\n",
    "\n",
    "\n",
    "liste_temps = [[1,2,39,34],[0,1,9,4],[0,29,39,51],[0,31,13,46]]\n",
    "verifie(liste_temps)"
   ]
  }
 ],
 "metadata": {
  "kernelspec": {
   "display_name": "Python 3.10.4 ('l1-python')",
   "language": "python",
   "name": "python3"
  },
  "language_info": {
   "codemirror_mode": {
    "name": "ipython",
    "version": 3
   },
   "file_extension": ".py",
   "mimetype": "text/x-python",
   "name": "python",
   "nbconvert_exporter": "python",
   "pygments_lexer": "ipython3",
   "version": "3.10.4"
  },
  "vscode": {
   "interpreter": {
    "hash": "6107706898b86afcdb63162983986ae71a57a573b2a4ac136c286c1297817cfa"
   }
  }
 },
 "nbformat": 4,
 "nbformat_minor": 4
}
